{
 "cells": [
  {
   "cell_type": "code",
   "execution_count": 1,
   "id": "f226a2df-43ce-4023-a45f-51780208bb73",
   "metadata": {},
   "outputs": [],
   "source": [
    "import pandas as pd\n",
    "from io import BytesIO\n",
    "import requests\n",
    "import bs4\n",
    "import gspread\n",
    "from datetime import datetime\n",
    "import sqlite3\n",
    "import time"
   ]
  },
  {
   "cell_type": "code",
   "execution_count": 2,
   "id": "f49bc8f9-440a-49f1-a73b-2f881580dc03",
   "metadata": {},
   "outputs": [],
   "source": [
    "# python-read-sheet@read-sheets-330912.iam.gserviceaccount.com\n",
    "google_account = gspread.service_account(filename = 'credentials.json')"
   ]
  },
  {
   "cell_type": "code",
   "execution_count": 5,
   "id": "a745be94-87a3-4065-9080-aed0b826300b",
   "metadata": {
    "tags": []
   },
   "outputs": [],
   "source": [
    "# https://docs.google.com/spreadsheets/d/ID\n",
    "zhuxian = ID1 # 主线任务对话\n",
    "renwuqipao = ID2 # 任务气泡"
   ]
  },
  {
   "cell_type": "code",
   "execution_count": 6,
   "id": "448bc102-2e2d-46db-b552-f36a381f56d3",
   "metadata": {
    "tags": []
   },
   "outputs": [],
   "source": [
    "def read_spreadsheet(key):\n",
    "    response = google_account.open_by_key(key)\n",
    "    if key == zhuxian:\n",
    "        file_name = '主线任务对话'\n",
    "    elif key == renwuqipao:\n",
    "        file_name = '任务气泡'\n",
    "    elif key == sanxuanqipao:\n",
    "        file_name = '三选气泡'\n",
    "    elif key == renwuming:\n",
    "        file_name = '主线任务名'\n",
    "    elif key == renwuzhangjie:\n",
    "        file_name = '任务章节'\n",
    "    elif key == renwumingcheng:\n",
    "        file_name = '人物名称'\n",
    "    elif key == jiajuming:\n",
    "        file_name = '家具名称'\n",
    "    elif key == renwuduihua:\n",
    "        file_name = '支线任务对话'\n",
    "    elif key == zhixianrenwuming:\n",
    "        file_name = '支线任务名'\n",
    "    elif key == zhixianlinju:\n",
    "        file_name = '支线房间邻居'\n",
    "    elif key == juqingduihua:\n",
    "        file_name = '活动剧情对话'\n",
    "    elif key == huodongqipao:\n",
    "        file_name = '活动AI气泡'\n",
    "    elif key == ui:\n",
    "        file_name = 'UI文字'\n",
    "    elif key == youjian:\n",
    "        file_name = '邮件文本'\n",
    "    elif key == qipao:\n",
    "        file_name = '气泡'\n",
    "    elif key == sanxuanjiaju:\n",
    "        file_name = '三选家具名'\n",
    "        \n",
    "    try:\n",
    "        sheet = response.worksheet(\"#总表\")\n",
    "        print(\"总表\")\n",
    "        sheet = sheet.get_all_records()\n",
    "        df = pd.DataFrame(sheet)\n",
    "        df.insert(loc=0, column='sheet_name', value='总表')\n",
    "        df.insert(loc=0, column='file_name', value=str(file_name))\n",
    "    except:\n",
    "        df = pd.DataFrame()\n",
    "        length = len(response.worksheets())\n",
    "        print(\"numbers of Sheets: {}\".format(length))\n",
    "        for num in range(length):\n",
    "            sheet = response.get_worksheet(num)\n",
    "            sheet_df = pd.DataFrame(sheet.get_all_records())\n",
    "            if len(sheet_df.columns) > 15:\n",
    "                sheet_df.insert(loc=0, column='sheet_name', value=str(sheet.title))\n",
    "                sheet_df.insert(loc=0, column='file_name', value=str(file_name))\n",
    "                df = df.append(sheet_df)                \n",
    "#         df = df.drop(df[(df['id']=='long') | (df['id']=='string') | (df['id']=='int')].index) # id == long or string or int\n",
    "#         df = df.drop(df[df['en']=='英语'].index) # en = 英语 \n",
    "#         df = df.drop(df[(df['en']=='英语') | (df['en']==' ')].index) # en = 英语 \n",
    "#         df = df.dropna(subset=['en']) # en 空值\n",
    "    print(\"Length: {}\".format(len(df)))    \n",
    "    df = df.reset_index(drop = True)\n",
    "    return df\n",
    "\n",
    "def set_columns(df):\n",
    "    df.columns = df.columns.str.lower().to_list()\n",
    "    df = df[['file_name', 'sheet_name', 'id', 'key', 'en', 'sc', 'jp', 'de', 'fr','tc', 'it', 'ru', 'es', 'po', 'kr', 'tu', 'ar', 'indo', 'th']]\n",
    "    df.columns = ['file_name', 'sheet_name', 'text_id', 'key', 'en', 'sc', 'jp', 'de', 'fr','tc', 'it', 'ru', 'es', 'po', 'kr', 'tu', 'ar', 'indo', 'th']\n",
    "    return df\n",
    "\n",
    "def drop_trash(df):\n",
    "    df = df.drop(df[(df['text_id']=='long') | (df['text_id']=='程序用') | (df['text_id']=='程序用ID') | (df['text_id']=='程序用家具ID') | (df['text_id']=='string') | (df['text_id']=='int')].index)\n",
    "    df = df.drop(df[df['en'].str.len()==0].index)\n",
    "    return df"
   ]
  },
  {
   "cell_type": "code",
   "execution_count": 7,
   "id": "d3a1d99e-839c-4f60-97a8-f02550ad045c",
   "metadata": {},
   "outputs": [
    {
     "name": "stdout",
     "output_type": "stream",
     "text": [
      "numbers of Sheets: 14\n",
      "Length: 9441\n",
      "9401\n"
     ]
    },
    {
     "data": {
      "text/html": [
       "<div>\n",
       "<style scoped>\n",
       "    .dataframe tbody tr th:only-of-type {\n",
       "        vertical-align: middle;\n",
       "    }\n",
       "\n",
       "    .dataframe tbody tr th {\n",
       "        vertical-align: top;\n",
       "    }\n",
       "\n",
       "    .dataframe thead th {\n",
       "        text-align: right;\n",
       "    }\n",
       "</style>\n",
       "<table border=\"1\" class=\"dataframe\">\n",
       "  <thead>\n",
       "    <tr style=\"text-align: right;\">\n",
       "      <th></th>\n",
       "      <th>file_name</th>\n",
       "      <th>sheet_name</th>\n",
       "      <th>text_id</th>\n",
       "      <th>key</th>\n",
       "      <th>en</th>\n",
       "      <th>sc</th>\n",
       "      <th>jp</th>\n",
       "      <th>de</th>\n",
       "      <th>fr</th>\n",
       "      <th>tc</th>\n",
       "      <th>it</th>\n",
       "      <th>ru</th>\n",
       "      <th>es</th>\n",
       "      <th>po</th>\n",
       "      <th>kr</th>\n",
       "      <th>tu</th>\n",
       "      <th>ar</th>\n",
       "      <th>indo</th>\n",
       "      <th>th</th>\n",
       "    </tr>\n",
       "  </thead>\n",
       "  <tbody>\n",
       "    <tr>\n",
       "      <th>2</th>\n",
       "      <td>主线任务对话</td>\n",
       "      <td>#译文总表</td>\n",
       "      <td>NaN</td>\n",
       "      <td>程序用</td>\n",
       "      <td>英语</td>\n",
       "      <td>简体中文</td>\n",
       "      <td>日语</td>\n",
       "      <td>德语</td>\n",
       "      <td>法语</td>\n",
       "      <td>繁体中文</td>\n",
       "      <td>意大利语</td>\n",
       "      <td>俄罗斯语</td>\n",
       "      <td>西班牙语</td>\n",
       "      <td>葡萄牙语</td>\n",
       "      <td>韩语</td>\n",
       "      <td>土耳其语</td>\n",
       "      <td>阿拉伯语</td>\n",
       "      <td>印尼语</td>\n",
       "      <td>泰语</td>\n",
       "    </tr>\n",
       "    <tr>\n",
       "      <th>3</th>\n",
       "      <td>主线任务对话</td>\n",
       "      <td>#译文总表</td>\n",
       "      <td>NaN</td>\n",
       "      <td>string</td>\n",
       "      <td>string</td>\n",
       "      <td>string</td>\n",
       "      <td>string</td>\n",
       "      <td>string</td>\n",
       "      <td>string</td>\n",
       "      <td>string</td>\n",
       "      <td>string</td>\n",
       "      <td>string</td>\n",
       "      <td>string</td>\n",
       "      <td>string</td>\n",
       "      <td>string</td>\n",
       "      <td>string</td>\n",
       "      <td>string</td>\n",
       "      <td>string</td>\n",
       "      <td>string</td>\n",
       "    </tr>\n",
       "  </tbody>\n",
       "</table>\n",
       "</div>"
      ],
      "text/plain": [
       "  file_name sheet_name text_id     key      en      sc      jp      de  \\\n",
       "2    主线任务对话      #译文总表     NaN     程序用      英语    简体中文      日语      德语   \n",
       "3    主线任务对话      #译文总表     NaN  string  string  string  string  string   \n",
       "\n",
       "       fr      tc      it      ru      es      po      kr      tu      ar  \\\n",
       "2      法语    繁体中文    意大利语    俄罗斯语    西班牙语    葡萄牙语      韩语    土耳其语    阿拉伯语   \n",
       "3  string  string  string  string  string  string  string  string  string   \n",
       "\n",
       "     indo      th  \n",
       "2     印尼语      泰语  \n",
       "3  string  string  "
      ]
     },
     "execution_count": 7,
     "metadata": {},
     "output_type": "execute_result"
    }
   ],
   "source": [
    "# 主线任务对话\n",
    "zhuxian_spread = read_spreadsheet(zhuxian)\n",
    "zhuxian_spread = set_columns(zhuxian_spread)\n",
    "zhuxian_spread = drop_trash(zhuxian_spread)\n",
    "print(len(zhuxian_spread))\n",
    "# time.sleep(60)\n",
    "zhuxian_spread.head(2)"
   ]
  },
  {
   "cell_type": "code",
   "execution_count": 8,
   "id": "c9c40c6b-cd64-4f20-8004-b99b9977662e",
   "metadata": {},
   "outputs": [
    {
     "name": "stdout",
     "output_type": "stream",
     "text": [
      "numbers of Sheets: 14\n",
      "Length: 6306\n",
      "6265\n"
     ]
    },
    {
     "data": {
      "text/html": [
       "<div>\n",
       "<style scoped>\n",
       "    .dataframe tbody tr th:only-of-type {\n",
       "        vertical-align: middle;\n",
       "    }\n",
       "\n",
       "    .dataframe tbody tr th {\n",
       "        vertical-align: top;\n",
       "    }\n",
       "\n",
       "    .dataframe thead th {\n",
       "        text-align: right;\n",
       "    }\n",
       "</style>\n",
       "<table border=\"1\" class=\"dataframe\">\n",
       "  <thead>\n",
       "    <tr style=\"text-align: right;\">\n",
       "      <th></th>\n",
       "      <th>file_name</th>\n",
       "      <th>sheet_name</th>\n",
       "      <th>text_id</th>\n",
       "      <th>key</th>\n",
       "      <th>en</th>\n",
       "      <th>sc</th>\n",
       "      <th>jp</th>\n",
       "      <th>de</th>\n",
       "      <th>fr</th>\n",
       "      <th>tc</th>\n",
       "      <th>it</th>\n",
       "      <th>ru</th>\n",
       "      <th>es</th>\n",
       "      <th>po</th>\n",
       "      <th>kr</th>\n",
       "      <th>tu</th>\n",
       "      <th>ar</th>\n",
       "      <th>indo</th>\n",
       "      <th>th</th>\n",
       "    </tr>\n",
       "  </thead>\n",
       "  <tbody>\n",
       "    <tr>\n",
       "      <th>5</th>\n",
       "      <td>任务气泡</td>\n",
       "      <td>#译文总表</td>\n",
       "      <td>31254</td>\n",
       "      <td>FALSE</td>\n",
       "      <td>Look at her now! We'll be able to sail in no t...</td>\n",
       "      <td></td>\n",
       "      <td>見てくれ！今すぐ出港できるぞ！</td>\n",
       "      <td>Schaut sie euch jetzt an! Wir werden im Handum...</td>\n",
       "      <td>Regardez-moi ça ! Il est bientôt prêt à prendr...</td>\n",
       "      <td>看！我們很快就能乘船啟航啦！</td>\n",
       "      <td>Guardala adesso! Potremo salpare in men che no...</td>\n",
       "      <td>Вы только полюбуйтесь этой красавицей! Хоть се...</td>\n",
       "      <td>¡Mira eso! ¡Pronto estaremos listos para zarpar!</td>\n",
       "      <td>Olhe para ela agora! Poderemos de navegar rapi...</td>\n",
       "      <td>봐봐! 머지않아 출항할 수 있겠어!</td>\n",
       "      <td>Şuna bir bak! Yakında denize açılabileceğiz!</td>\n",
       "      <td>ألق نظرة عليه الآن! سنكون قادرين على الإبحار ف...</td>\n",
       "      <td>Lihat dia sekarang! Sebentar lagi kita bisa be...</td>\n",
       "      <td>ดูมันตอนนี้สิ! เราจะออกเรือกันได้ในอีกไม่นานแล้ว!</td>\n",
       "    </tr>\n",
       "    <tr>\n",
       "      <th>6</th>\n",
       "      <td>任务气泡</td>\n",
       "      <td>#译文总表</td>\n",
       "      <td>31255</td>\n",
       "      <td>FALSE</td>\n",
       "      <td>It's good that Jojo is going with you, Alice.</td>\n",
       "      <td></td>\n",
       "      <td>ジョーイが一緒に行ってくれるなら安心ね、アリス。</td>\n",
       "      <td>Es ist gut, dass Jojo mit dir kommt, Alice.</td>\n",
       "      <td>C’est bien que Juju t’accompagne, Alice.</td>\n",
       "      <td>幸好JOJO會陪你去呢，艾莉絲。</td>\n",
       "      <td>È bello che Jojo venga con te, Alice.</td>\n",
       "      <td>Здорово, что тебя будет сопровождать Джо-Джо, ...</td>\n",
       "      <td>Qué bueno que Jojo va a ir contigo, Alice.</td>\n",
       "      <td>É bom que Jojo vá com você, Alice.</td>\n",
       "      <td>조조가 같이 간다니 잘됐구나, 앨리스.</td>\n",
       "      <td>Jojo’nun seninle gelmesi iyi olmuş Alice.</td>\n",
       "      <td>من الجيد أن «جوجو» سيرافقك يا أليس.</td>\n",
       "      <td>Kamu beruntung Jojo pergi denganmu, Alice.</td>\n",
       "      <td>ดีจังนะที่โจโจจะไปกับเธอด้วย อลิซ</td>\n",
       "    </tr>\n",
       "  </tbody>\n",
       "</table>\n",
       "</div>"
      ],
      "text/plain": [
       "  file_name sheet_name text_id    key  \\\n",
       "5      任务气泡      #译文总表   31254  FALSE   \n",
       "6      任务气泡      #译文总表   31255  FALSE   \n",
       "\n",
       "                                                  en sc  \\\n",
       "5  Look at her now! We'll be able to sail in no t...      \n",
       "6      It's good that Jojo is going with you, Alice.      \n",
       "\n",
       "                         jp  \\\n",
       "5           見てくれ！今すぐ出港できるぞ！   \n",
       "6  ジョーイが一緒に行ってくれるなら安心ね、アリス。   \n",
       "\n",
       "                                                  de  \\\n",
       "5  Schaut sie euch jetzt an! Wir werden im Handum...   \n",
       "6        Es ist gut, dass Jojo mit dir kommt, Alice.   \n",
       "\n",
       "                                                  fr                tc  \\\n",
       "5  Regardez-moi ça ! Il est bientôt prêt à prendr...    看！我們很快就能乘船啟航啦！   \n",
       "6           C’est bien que Juju t’accompagne, Alice.  幸好JOJO會陪你去呢，艾莉絲。   \n",
       "\n",
       "                                                  it  \\\n",
       "5  Guardala adesso! Potremo salpare in men che no...   \n",
       "6              È bello che Jojo venga con te, Alice.   \n",
       "\n",
       "                                                  ru  \\\n",
       "5  Вы только полюбуйтесь этой красавицей! Хоть се...   \n",
       "6  Здорово, что тебя будет сопровождать Джо-Джо, ...   \n",
       "\n",
       "                                                 es  \\\n",
       "5  ¡Mira eso! ¡Pronto estaremos listos para zarpar!   \n",
       "6        Qué bueno que Jojo va a ir contigo, Alice.   \n",
       "\n",
       "                                                  po                     kr  \\\n",
       "5  Olhe para ela agora! Poderemos de navegar rapi...    봐봐! 머지않아 출항할 수 있겠어!   \n",
       "6                 É bom que Jojo vá com você, Alice.  조조가 같이 간다니 잘됐구나, 앨리스.   \n",
       "\n",
       "                                             tu  \\\n",
       "5  Şuna bir bak! Yakında denize açılabileceğiz!   \n",
       "6     Jojo’nun seninle gelmesi iyi olmuş Alice.   \n",
       "\n",
       "                                                  ar  \\\n",
       "5  ألق نظرة عليه الآن! سنكون قادرين على الإبحار ف...   \n",
       "6                من الجيد أن «جوجو» سيرافقك يا أليس.   \n",
       "\n",
       "                                                indo  \\\n",
       "5  Lihat dia sekarang! Sebentar lagi kita bisa be...   \n",
       "6         Kamu beruntung Jojo pergi denganmu, Alice.   \n",
       "\n",
       "                                                  th  \n",
       "5  ดูมันตอนนี้สิ! เราจะออกเรือกันได้ในอีกไม่นานแล้ว!  \n",
       "6                  ดีจังนะที่โจโจจะไปกับเธอด้วย อลิซ  "
      ]
     },
     "execution_count": 8,
     "metadata": {},
     "output_type": "execute_result"
    }
   ],
   "source": [
    "# 任务气泡\n",
    "time.sleep(60)\n",
    "renwuqipao_spread = read_spreadsheet(renwuqipao)\n",
    "renwuqipao_spread = set_columns(renwuqipao_spread)\n",
    "renwuqipao_spread = drop_trash(renwuqipao_spread)\n",
    "print(len(renwuqipao_spread))\n",
    "renwuqipao_spread.head(2)"
   ]
  },
  {
   "cell_type": "code",
   "execution_count": null,
   "id": "16f43438-32e8-4f54-86de-c0d63bfba5d2",
   "metadata": {},
   "outputs": [],
   "source": []
  },
  {
   "cell_type": "markdown",
   "id": "be842262-9910-425f-84ea-e14f62189264",
   "metadata": {},
   "source": [
    "# Merge Files"
   ]
  },
  {
   "cell_type": "code",
   "execution_count": 23,
   "id": "9ead7b78-3120-457d-ae60-c4378a8f29e3",
   "metadata": {},
   "outputs": [],
   "source": [
    "spread_sheet_list = [zhuxian_spread, renwuqipao_spread, sanxuanqipao_spread, renwuming_spread, renwuzhangjie_spread, renwumingcheng_spread, jiajuming_spread, renwuduihua_spread, \n",
    "                    zhixianrenwuming_spread, zhixianlinju_spread, juqingduihua_spread,huodongqipao_spread, ui_spread, youjian_spread, qipao_spread, sanxuanjiaju_spread]"
   ]
  },
  {
   "cell_type": "code",
   "execution_count": 24,
   "id": "ff89ef13-3efe-41c4-8ae9-3d77dc9d1dfc",
   "metadata": {},
   "outputs": [
    {
     "name": "stdout",
     "output_type": "stream",
     "text": [
      "29462\n"
     ]
    }
   ],
   "source": [
    "whole = pd.DataFrame()\n",
    "for sheet in spread_sheet_list:\n",
    "    whole = whole.append(sheet)\n",
    "print(len(whole))"
   ]
  },
  {
   "cell_type": "code",
   "execution_count": 25,
   "id": "6d31c67f-76e0-4624-8613-ba5b2c9620df",
   "metadata": {},
   "outputs": [
    {
     "data": {
      "text/html": [
       "<div>\n",
       "<style scoped>\n",
       "    .dataframe tbody tr th:only-of-type {\n",
       "        vertical-align: middle;\n",
       "    }\n",
       "\n",
       "    .dataframe tbody tr th {\n",
       "        vertical-align: top;\n",
       "    }\n",
       "\n",
       "    .dataframe thead th {\n",
       "        text-align: right;\n",
       "    }\n",
       "</style>\n",
       "<table border=\"1\" class=\"dataframe\">\n",
       "  <thead>\n",
       "    <tr style=\"text-align: right;\">\n",
       "      <th></th>\n",
       "      <th>file_name</th>\n",
       "      <th>sheet_name</th>\n",
       "      <th>text_id</th>\n",
       "      <th>key</th>\n",
       "      <th>en</th>\n",
       "      <th>sc</th>\n",
       "      <th>jp</th>\n",
       "      <th>de</th>\n",
       "      <th>fr</th>\n",
       "      <th>tc</th>\n",
       "      <th>it</th>\n",
       "      <th>ru</th>\n",
       "      <th>es</th>\n",
       "      <th>po</th>\n",
       "      <th>kr</th>\n",
       "      <th>tu</th>\n",
       "      <th>ar</th>\n",
       "      <th>indo</th>\n",
       "      <th>th</th>\n",
       "      <th>id</th>\n",
       "    </tr>\n",
       "  </thead>\n",
       "  <tbody>\n",
       "    <tr>\n",
       "      <th>2</th>\n",
       "      <td>主线任务对话</td>\n",
       "      <td>#译文总表</td>\n",
       "      <td>NaN</td>\n",
       "      <td>程序用</td>\n",
       "      <td>英语</td>\n",
       "      <td>简体中文</td>\n",
       "      <td>日语</td>\n",
       "      <td>德语</td>\n",
       "      <td>法语</td>\n",
       "      <td>繁体中文</td>\n",
       "      <td>意大利语</td>\n",
       "      <td>俄罗斯语</td>\n",
       "      <td>西班牙语</td>\n",
       "      <td>葡萄牙语</td>\n",
       "      <td>韩语</td>\n",
       "      <td>土耳其语</td>\n",
       "      <td>阿拉伯语</td>\n",
       "      <td>印尼语</td>\n",
       "      <td>泰语</td>\n",
       "      <td>NaN</td>\n",
       "    </tr>\n",
       "    <tr>\n",
       "      <th>3</th>\n",
       "      <td>主线任务对话</td>\n",
       "      <td>#译文总表</td>\n",
       "      <td>NaN</td>\n",
       "      <td>string</td>\n",
       "      <td>string</td>\n",
       "      <td>string</td>\n",
       "      <td>string</td>\n",
       "      <td>string</td>\n",
       "      <td>string</td>\n",
       "      <td>string</td>\n",
       "      <td>string</td>\n",
       "      <td>string</td>\n",
       "      <td>string</td>\n",
       "      <td>string</td>\n",
       "      <td>string</td>\n",
       "      <td>string</td>\n",
       "      <td>string</td>\n",
       "      <td>string</td>\n",
       "      <td>string</td>\n",
       "      <td>NaN</td>\n",
       "    </tr>\n",
       "    <tr>\n",
       "      <th>5</th>\n",
       "      <td>主线任务对话</td>\n",
       "      <td>#译文总表</td>\n",
       "      <td>NaN</td>\n",
       "      <td>T_OrchardBuildpathfinal_11</td>\n",
       "      <td>Just &lt;color=#3a9108&gt;assemble the three pieces&lt;...</td>\n",
       "      <td></td>\n",
       "      <td>&lt;color=#3a9108&gt;3つのパーツを組み立てて&lt;/color&gt;、車輪を回すだけじゃ！...</td>\n",
       "      <td>&lt;color=#3a9108&gt;Setzt die drei Stücke einfach z...</td>\n",
       "      <td>Il vous suffit d’&lt;color=#3a9108&gt;assembler les ...</td>\n",
       "      <td>把&lt;color=#3a9108&gt;三塊拼起來&lt;/color&gt;，再把輪子轉一下！這就是開啟鐵門的...</td>\n",
       "      <td>&lt;color=#3a9108&gt;Metti insieme i tre pezzi&lt;/colo...</td>\n",
       "      <td>Давай &lt;color=#3a9108&gt;соберем все три элемента&lt;...</td>\n",
       "      <td>¡Ensambla las tres piezas y &lt;color=#3a9108&gt;gir...</td>\n",
       "      <td>É só &lt;color=#3a9108&gt;montar as três peças&lt;/colo...</td>\n",
       "      <td>&lt;color=#3a9108&gt;세 조각을 합쳐서&lt;/color&gt; 바퀴를 돌려라! 그게 대...</td>\n",
       "      <td>&lt;color=#3a9108&gt;Üç parçayı bir araya getir&lt;/col...</td>\n",
       "      <td>كل ما عليك هو &lt;color=#3a9108&gt;تجميع القطع الثلا...</td>\n",
       "      <td>&lt;color=#3a9108&gt;Susun saja ketiga bagiannya&lt;/co...</td>\n",
       "      <td>แค่&lt;color=#3a9108&gt;ประกอบทั้งสามชิ้นส่วน&lt;/color...</td>\n",
       "      <td>NaN</td>\n",
       "    </tr>\n",
       "    <tr>\n",
       "      <th>6</th>\n",
       "      <td>主线任务对话</td>\n",
       "      <td>#译文总表</td>\n",
       "      <td>NaN</td>\n",
       "      <td>E_DockDecoratearchespre_2</td>\n",
       "      <td>A little tracker would do the trick.</td>\n",
       "      <td></td>\n",
       "      <td>小さなトラッカーがあれば大丈夫だ。</td>\n",
       "      <td>Ein kleiner Tracker wird den Unterschied machen.</td>\n",
       "      <td>Un petit traqueur fera l’affaire.</td>\n",
       "      <td>加個追蹤器，肯定沒問題。</td>\n",
       "      <td>Un piccolo localizzatore sarà sufficiente.</td>\n",
       "      <td>Незаметный маячок будет очень кстати.</td>\n",
       "      <td>Un pequeño rastreador hará el trabajo.</td>\n",
       "      <td>Um pequeno rastreador deve dar conta do recado.</td>\n",
       "      <td>추적기를 하나 달면 되겠어.</td>\n",
       "      <td>Küçük bir takip cihazı işe yarar.</td>\n",
       "      <td>تتبع أثر العملية قليلاً سيفي بالغرض.</td>\n",
       "      <td>Pelacak kecil cukup untuk melakukannya.</td>\n",
       "      <td>ใช้เครื่องติดตามสักหน่อยน่าจะได้ผล</td>\n",
       "      <td>NaN</td>\n",
       "    </tr>\n",
       "    <tr>\n",
       "      <th>7</th>\n",
       "      <td>主线任务对话</td>\n",
       "      <td>#译文总表</td>\n",
       "      <td>NaN</td>\n",
       "      <td>E_DockDecoratearchespre_3</td>\n",
       "      <td>So even if that island's in Timbuktu, I'll be ...</td>\n",
       "      <td></td>\n",
       "      <td>たとえ島がアフリカにあろうと、どこに向かっているのかがわかるはずだ！</td>\n",
       "      <td>Selbst wenn diese Insel in Timbuktu liegt, so ...</td>\n",
       "      <td>Comme ça, même si cette île est à Timbuktu, je...</td>\n",
       "      <td>就算他們把船開到鳥不生蛋的地方，我都能知道！</td>\n",
       "      <td>Così anche se quell'isola si trova a Timbuktu,...</td>\n",
       "      <td>Пусть этот остров находится хоть в Тимбукту, н...</td>\n",
       "      <td>¡Así, incluso si la isla es en Tombuctú, sabré...</td>\n",
       "      <td>Então mesmo que aquela ilha seja em Timbuktu, ...</td>\n",
       "      <td>그러면 그 섬이 아무리 외딴 곳에 있더라도 놈들이 향한 곳을 알 수 있겠지!</td>\n",
       "      <td>Yani o ada Timbuktu’da olsa bile nereye gittik...</td>\n",
       "      <td>لذا حتى لو كانت تلك الجزيرة في تمبكتو، فسأكون ...</td>\n",
       "      <td>Jadi walaupun pulau itu ada di Timbuktu, aku b...</td>\n",
       "      <td>ถึงแม้เกาะนั่นจะอยู่ในแดนลึกลับแค่ไหน ฉันก็จะร...</td>\n",
       "      <td>NaN</td>\n",
       "    </tr>\n",
       "  </tbody>\n",
       "</table>\n",
       "</div>"
      ],
      "text/plain": [
       "  file_name sheet_name text_id                         key  \\\n",
       "2    主线任务对话      #译文总表     NaN                         程序用   \n",
       "3    主线任务对话      #译文总表     NaN                      string   \n",
       "5    主线任务对话      #译文总表     NaN  T_OrchardBuildpathfinal_11   \n",
       "6    主线任务对话      #译文总表     NaN   E_DockDecoratearchespre_2   \n",
       "7    主线任务对话      #译文总表     NaN   E_DockDecoratearchespre_3   \n",
       "\n",
       "                                                  en      sc  \\\n",
       "2                                                 英语    简体中文   \n",
       "3                                             string  string   \n",
       "5  Just <color=#3a9108>assemble the three pieces<...           \n",
       "6               A little tracker would do the trick.           \n",
       "7  So even if that island's in Timbuktu, I'll be ...           \n",
       "\n",
       "                                                  jp  \\\n",
       "2                                                 日语   \n",
       "3                                             string   \n",
       "5  <color=#3a9108>3つのパーツを組み立てて</color>、車輪を回すだけじゃ！...   \n",
       "6                                  小さなトラッカーがあれば大丈夫だ。   \n",
       "7                 たとえ島がアフリカにあろうと、どこに向かっているのかがわかるはずだ！   \n",
       "\n",
       "                                                  de  \\\n",
       "2                                                 德语   \n",
       "3                                             string   \n",
       "5  <color=#3a9108>Setzt die drei Stücke einfach z...   \n",
       "6   Ein kleiner Tracker wird den Unterschied machen.   \n",
       "7  Selbst wenn diese Insel in Timbuktu liegt, so ...   \n",
       "\n",
       "                                                  fr  \\\n",
       "2                                                 法语   \n",
       "3                                             string   \n",
       "5  Il vous suffit d’<color=#3a9108>assembler les ...   \n",
       "6                  Un petit traqueur fera l’affaire.   \n",
       "7  Comme ça, même si cette île est à Timbuktu, je...   \n",
       "\n",
       "                                                  tc  \\\n",
       "2                                               繁体中文   \n",
       "3                                             string   \n",
       "5  把<color=#3a9108>三塊拼起來</color>，再把輪子轉一下！這就是開啟鐵門的...   \n",
       "6                                       加個追蹤器，肯定沒問題。   \n",
       "7                             就算他們把船開到鳥不生蛋的地方，我都能知道！   \n",
       "\n",
       "                                                  it  \\\n",
       "2                                               意大利语   \n",
       "3                                             string   \n",
       "5  <color=#3a9108>Metti insieme i tre pezzi</colo...   \n",
       "6         Un piccolo localizzatore sarà sufficiente.   \n",
       "7  Così anche se quell'isola si trova a Timbuktu,...   \n",
       "\n",
       "                                                  ru  \\\n",
       "2                                               俄罗斯语   \n",
       "3                                             string   \n",
       "5  Давай <color=#3a9108>соберем все три элемента<...   \n",
       "6              Незаметный маячок будет очень кстати.   \n",
       "7  Пусть этот остров находится хоть в Тимбукту, н...   \n",
       "\n",
       "                                                  es  \\\n",
       "2                                               西班牙语   \n",
       "3                                             string   \n",
       "5  ¡Ensambla las tres piezas y <color=#3a9108>gir...   \n",
       "6             Un pequeño rastreador hará el trabajo.   \n",
       "7  ¡Así, incluso si la isla es en Tombuctú, sabré...   \n",
       "\n",
       "                                                  po  \\\n",
       "2                                               葡萄牙语   \n",
       "3                                             string   \n",
       "5  É só <color=#3a9108>montar as três peças</colo...   \n",
       "6    Um pequeno rastreador deve dar conta do recado.   \n",
       "7  Então mesmo que aquela ilha seja em Timbuktu, ...   \n",
       "\n",
       "                                                  kr  \\\n",
       "2                                                 韩语   \n",
       "3                                             string   \n",
       "5  <color=#3a9108>세 조각을 합쳐서</color> 바퀴를 돌려라! 그게 대...   \n",
       "6                                    추적기를 하나 달면 되겠어.   \n",
       "7         그러면 그 섬이 아무리 외딴 곳에 있더라도 놈들이 향한 곳을 알 수 있겠지!   \n",
       "\n",
       "                                                  tu  \\\n",
       "2                                               土耳其语   \n",
       "3                                             string   \n",
       "5  <color=#3a9108>Üç parçayı bir araya getir</col...   \n",
       "6                  Küçük bir takip cihazı işe yarar.   \n",
       "7  Yani o ada Timbuktu’da olsa bile nereye gittik...   \n",
       "\n",
       "                                                  ar  \\\n",
       "2                                               阿拉伯语   \n",
       "3                                             string   \n",
       "5  كل ما عليك هو <color=#3a9108>تجميع القطع الثلا...   \n",
       "6               تتبع أثر العملية قليلاً سيفي بالغرض.   \n",
       "7  لذا حتى لو كانت تلك الجزيرة في تمبكتو، فسأكون ...   \n",
       "\n",
       "                                                indo  \\\n",
       "2                                                印尼语   \n",
       "3                                             string   \n",
       "5  <color=#3a9108>Susun saja ketiga bagiannya</co...   \n",
       "6            Pelacak kecil cukup untuk melakukannya.   \n",
       "7  Jadi walaupun pulau itu ada di Timbuktu, aku b...   \n",
       "\n",
       "                                                  th   id  \n",
       "2                                                 泰语  NaN  \n",
       "3                                             string  NaN  \n",
       "5  แค่<color=#3a9108>ประกอบทั้งสามชิ้นส่วน</color...  NaN  \n",
       "6                 ใช้เครื่องติดตามสักหน่อยน่าจะได้ผล  NaN  \n",
       "7  ถึงแม้เกาะนั่นจะอยู่ในแดนลึกลับแค่ไหน ฉันก็จะร...  NaN  "
      ]
     },
     "execution_count": 25,
     "metadata": {},
     "output_type": "execute_result"
    }
   ],
   "source": [
    "whole.head()"
   ]
  },
  {
   "cell_type": "code",
   "execution_count": 26,
   "id": "da128893-2436-43b6-9dfc-a1944284c089",
   "metadata": {},
   "outputs": [
    {
     "data": {
      "text/plain": [
       "Index(['file_name', 'sheet_name', 'text_id', 'key', 'en', 'sc', 'jp', 'de',\n",
       "       'fr', 'tc', 'it', 'ru', 'es', 'po', 'kr', 'tu', 'ar', 'indo', 'th',\n",
       "       'id'],\n",
       "      dtype='object')"
      ]
     },
     "execution_count": 26,
     "metadata": {},
     "output_type": "execute_result"
    }
   ],
   "source": [
    "whole.columns"
   ]
  },
  {
   "cell_type": "code",
   "execution_count": 27,
   "id": "b3eb2598-0669-48dd-a4d3-16a566ea1ce5",
   "metadata": {},
   "outputs": [],
   "source": [
    "whole = whole[['file_name', 'sheet_name', 'text_id', 'key', 'en', 'sc', 'jp', 'de','fr', 'tc', 'it', 'ru', 'es', 'po', 'kr', 'tu', 'ar', 'indo', 'th']]\n",
    "whole.columns = ['file_name', 'sheet_name', 'text_id', 'key', 'en', 'sc', 'jp', 'de', 'fr','tc', 'it', 'ru', 'es', 'po', 'kr', 'tu', 'ar', 'id', 'th']"
   ]
  },
  {
   "cell_type": "code",
   "execution_count": 28,
   "id": "6365204f-9fa9-42c7-a8d0-6b6e379de89a",
   "metadata": {},
   "outputs": [],
   "source": [
    "con = sqlite3.connect(\"texts.sqlite\") # DB Location\n",
    "c = con.cursor()\n",
    "c.execute(\"drop table texts\")\n",
    "c.execute(\"create table texts(file_name text, sheet_name text, text_id text, key text, en text, sc text, jp text, de text, fr text, tc text, it text, ru text, es text, po text, kr text, tu text, ar text, id text, th text)\")\n",
    "con.commit()\n",
    "whole.to_sql(\"nova_texts\", con, if_exists=\"append\",index=False)\n",
    "con.close()"
   ]
  },
  {
   "cell_type": "code",
   "execution_count": null,
   "id": "5eecb803-37d7-4230-a50a-a34b87279dbc",
   "metadata": {},
   "outputs": [],
   "source": []
  },
  {
   "cell_type": "code",
   "execution_count": null,
   "id": "6f43bbc8-e5ad-4fbc-bc88-ef5c79df5981",
   "metadata": {},
   "outputs": [],
   "source": []
  },
  {
   "cell_type": "markdown",
   "id": "cb6c5cb9-14ee-4390-af0a-3a7122d3a37a",
   "metadata": {},
   "source": [
    "# Check"
   ]
  },
  {
   "cell_type": "code",
   "execution_count": null,
   "id": "42d93a9d-de8a-4b50-b01b-4674fc124946",
   "metadata": {},
   "outputs": [],
   "source": [
    "con = sqlite3.connect(\"texts.sqlite\") # DB Location\n",
    "SQL=\"\"\"\n",
    "select * from texts\n",
    "\"\"\"\n",
    "df = pd.read_sql_query(SQL,con)\n",
    "con.close()\n",
    "df.head()"
   ]
  },
  {
   "cell_type": "code",
   "execution_count": 57,
   "id": "863549ed-085c-43c0-b201-073cf1316840",
   "metadata": {},
   "outputs": [],
   "source": [
    "# df.to_excel()"
   ]
  },
  {
   "cell_type": "code",
   "execution_count": null,
   "id": "6dbfb03f-71a3-4572-98f5-b985a86db5b3",
   "metadata": {},
   "outputs": [],
   "source": [
    "con = sqlite3.connect(\"texts.sqlite\") # DB Location\n",
    "SQL=\"\"\"\n",
    "select \n",
    "file_name, \n",
    "sheet_name, \n",
    "text_id, \n",
    "key,\n",
    "en, \n",
    "sc\n",
    "from nova_texts\n",
    "where en like '%ffairs%'\n",
    "\"\"\"\n",
    "df = pd.read_sql_query(SQL,con)\n",
    "con.close()\n",
    "df.head()"
   ]
  },
  {
   "cell_type": "code",
   "execution_count": null,
   "id": "85306a68-e820-4699-83d9-d2ed26ea38e9",
   "metadata": {},
   "outputs": [
    {
     "data": {
      "text/plain": [
       "Index(['file_name', 'sheet_name', 'text_id', 'key', 'en', 'sc', 'jp', 'de',\n",
       "       'fr', 'tc', 'it', 'ru', 'es', 'po', 'kr', 'tu', 'ar', 'id', 'th'],\n",
       "      dtype='object')"
      ]
     },
     "execution_count": 3,
     "metadata": {},
     "output_type": "execute_result"
    }
   ],
   "source": [
    "df.columns"
   ]
  },
  {
   "cell_type": "code",
   "execution_count": 9,
   "id": "2cb93161-9637-4df6-a4ab-4f2e38982ba3",
   "metadata": {},
   "outputs": [
    {
     "data": {
      "text/plain": [
       "'de'"
      ]
     },
     "execution_count": 9,
     "metadata": {},
     "output_type": "execute_result"
    }
   ],
   "source": [
    "from langdetect import detect\n",
    "detect(\"Ein, zwei, drei, vier\")"
   ]
  },
  {
   "cell_type": "code",
   "execution_count": 35,
   "id": "eedc726c-ccac-4f58-9477-894444a3ed52",
   "metadata": {},
   "outputs": [],
   "source": [
    "langlist = ['jp', 'de','fr','it', 'ru', 'es', 'po', 'kr', 'tu', 'ar', 'id', 'th']\n",
    "textchecklist = []\n",
    "for lang in langlist:\n",
    "    sublist = []\n",
    "    for text in df[lang]:\n",
    "        try:\n",
    "            sublist.append(detect(text))\n",
    "        except:\n",
    "            sublist.append('Not_Text')\n",
    "    textchecklist.append(sublist)"
   ]
  },
  {
   "cell_type": "code",
   "execution_count": 38,
   "id": "87787786-d507-4c22-9aa1-44563b8707e0",
   "metadata": {},
   "outputs": [
    {
     "data": {
      "text/plain": [
       "(12, 12)"
      ]
     },
     "execution_count": 38,
     "metadata": {},
     "output_type": "execute_result"
    }
   ],
   "source": [
    "len(textchecklist), len(langlist)"
   ]
  },
  {
   "cell_type": "code",
   "execution_count": 39,
   "id": "550b05e0-df13-4912-9654-ed074104ed9c",
   "metadata": {},
   "outputs": [],
   "source": [
    "num = 0\n",
    "for lang in langlist:\n",
    "    col_name = lang + '_check'\n",
    "    df[col_name] = textchecklist[num]\n",
    "    num += 1"
   ]
  },
  {
   "cell_type": "code",
   "execution_count": 59,
   "id": "c0a8bf39-b46e-415f-882d-c8cd266469dd",
   "metadata": {},
   "outputs": [],
   "source": [
    "df_drop_sametxts.to_excel('/mnt/e/Downloads/check_list.xlsx',index=False)"
   ]
  },
  {
   "cell_type": "code",
   "execution_count": 62,
   "id": "95d21f7c-d289-466b-8b8d-650752444155",
   "metadata": {},
   "outputs": [],
   "source": [
    "df_drop_sametxts[(df_drop_sametxts['po_check']=='es')&(df_drop_sametxts['es_check']=='pt')].to_excel('/mnt/e/Downloads/check_list2.xlsx',index=False)"
   ]
  },
  {
   "cell_type": "code",
   "execution_count": null,
   "id": "deac5c73-88d6-4e64-9f79-5f41c3477553",
   "metadata": {},
   "outputs": [],
   "source": []
  },
  {
   "cell_type": "markdown",
   "id": "2e9fce8f-97a3-4a63-badd-22cf1dde161f",
   "metadata": {},
   "source": [
    "# Historical Translation Records"
   ]
  },
  {
   "cell_type": "code",
   "execution_count": 3,
   "id": "665bda06-ec07-42aa-9c7e-b428f614ebaa",
   "metadata": {},
   "outputs": [],
   "source": [
    "# https://docs.google.com/spreadsheets/d/spreadsheetkey\n",
    "key = spreadsheetkey"
   ]
  },
  {
   "cell_type": "code",
   "execution_count": 4,
   "id": "3fa32f6c-32d1-4e86-8c0d-e3ae01186351",
   "metadata": {},
   "outputs": [],
   "source": [
    "response = google_account.open_by_key(key)\n",
    "sheet = response.get_worksheet(0)\n",
    "sheet_df = pd.DataFrame(sheet.get_all_records())\n",
    "df = sheet_df.copy()"
   ]
  },
  {
   "cell_type": "code",
   "execution_count": 43,
   "id": "d4d5dea1-9844-4435-b034-22fe7fe293bb",
   "metadata": {},
   "outputs": [],
   "source": [
    "df = sheet_df.copy()"
   ]
  },
  {
   "cell_type": "code",
   "execution_count": 44,
   "id": "a40b1f57-56f1-4e93-85d7-4f2a5a067a2b",
   "metadata": {},
   "outputs": [
    {
     "data": {
      "text/plain": [
       "(31999, 31999)"
      ]
     },
     "execution_count": 44,
     "metadata": {},
     "output_type": "execute_result"
    }
   ],
   "source": [
    "len(sheet_df), len(df)"
   ]
  },
  {
   "cell_type": "code",
   "execution_count": 46,
   "id": "79d7a7b0-135d-4324-a9f2-736080dedcc1",
   "metadata": {},
   "outputs": [
    {
     "name": "stdout",
     "output_type": "stream",
     "text": [
      "sheet_df Length: 31999\n",
      "df Length: 31999\n"
     ]
    }
   ],
   "source": [
    "print(\"sheet_df Length: {}\".format(len(sheet_df)))\n",
    "print(\"df Length: {}\".format(len(df)))"
   ]
  },
  {
   "cell_type": "code",
   "execution_count": 47,
   "id": "62ad7309-eab1-4b17-b40c-74e0d4873b3e",
   "metadata": {},
   "outputs": [],
   "source": [
    "df['word_count'] = df['英语'].str.split().str.len()"
   ]
  },
  {
   "cell_type": "code",
   "execution_count": 53,
   "id": "258fc35c-b1e5-4ccc-8358-d771807ad4a2",
   "metadata": {},
   "outputs": [
    {
     "data": {
      "text/plain": [
       "Index(['FileName', 'Note', '英语', '简中', '日语', '德语', '法语', '繁中', '意语', '俄语',\n",
       "       '西语', '葡语', '韩语', '土语', '阿语', '印尼语', '泰语', 'Link', 'ID', 'max_length',\n",
       "       'word_count'],\n",
       "      dtype='object')"
      ]
     },
     "execution_count": 53,
     "metadata": {},
     "output_type": "execute_result"
    }
   ],
   "source": [
    "df.columns"
   ]
  },
  {
   "cell_type": "code",
   "execution_count": 54,
   "id": "86aa2b99-e24b-4bde-8435-42291a00d0da",
   "metadata": {},
   "outputs": [
    {
     "data": {
      "text/plain": [
       "21"
      ]
     },
     "execution_count": 54,
     "metadata": {},
     "output_type": "execute_result"
    }
   ],
   "source": [
    "len(df.columns)"
   ]
  },
  {
   "cell_type": "code",
   "execution_count": 51,
   "id": "f93ca809-d35e-4bdd-984c-2c238a5554ab",
   "metadata": {},
   "outputs": [],
   "source": [
    "df = df[['FileName', 'Note', '英语', '简体中文', '日语', '德语', '法语', '繁体中文', '意大利语', '俄罗斯语', '西班牙语', '葡萄牙语', '韩语','土耳其语', '阿拉伯语', '印尼语', '泰语', 'Link', 'ID', 'MAX LENGTH', 'word_count']]\n",
    "df.columns = ['FileName', 'Note', '英语', '简中', '日语', '德语', '法语', '繁中', '意语', '俄语', '西语', '葡语', '韩语','土语', '阿语', '印尼语', '泰语','Link', 'ID','max_length', 'word_count']"
   ]
  },
  {
   "cell_type": "code",
   "execution_count": 41,
   "id": "49a1fa96-0f3a-4273-ad97-de9d7161d7c0",
   "metadata": {},
   "outputs": [],
   "source": [
    "con.close()"
   ]
  },
  {
   "cell_type": "code",
   "execution_count": 52,
   "id": "5e477943-694a-4850-911b-6905685740ea",
   "metadata": {},
   "outputs": [],
   "source": [
    "con = sqlite3.connect(\"texts.sqlite\") # DB Location\n",
    "c = con.cursor()\n",
    "c.execute(\"drop table texts_translated\")\n",
    "c.execute(\"create table texts_translated(FileName text, Note text, 英语 text, 简中 text, 日语 text, 德语 text, 法语 text, 繁中 text, 意语 text, 俄语 text, 西语 text, 葡语 text, 韩语 text, 土语 text, 阿语 text, 印尼语 text, 泰语 text , Link text, ID text, max_length text, word_count text)\")\n",
    "con.commit()\n",
    "df.to_sql(\"texts_translated\", con, if_exists=\"append\",index=False)\n",
    "con.close()"
   ]
  },
  {
   "cell_type": "code",
   "execution_count": 75,
   "id": "7597c736-4d4d-4d2f-90d6-52448c568d5e",
   "metadata": {},
   "outputs": [
    {
     "data": {
      "text/html": [
       "<div>\n",
       "<style scoped>\n",
       "    .dataframe tbody tr th:only-of-type {\n",
       "        vertical-align: middle;\n",
       "    }\n",
       "\n",
       "    .dataframe tbody tr th {\n",
       "        vertical-align: top;\n",
       "    }\n",
       "\n",
       "    .dataframe thead th {\n",
       "        text-align: right;\n",
       "    }\n",
       "</style>\n",
       "<table border=\"1\" class=\"dataframe\">\n",
       "  <thead>\n",
       "    <tr style=\"text-align: right;\">\n",
       "      <th></th>\n",
       "      <th>英语</th>\n",
       "    </tr>\n",
       "  </thead>\n",
       "  <tbody>\n",
       "    <tr>\n",
       "      <th>0</th>\n",
       "      <td>When you told me you inherited this mansion fr...</td>\n",
       "    </tr>\n",
       "    <tr>\n",
       "      <th>1</th>\n",
       "      <td>But since we're here already, we should revive...</td>\n",
       "    </tr>\n",
       "    <tr>\n",
       "      <th>2</th>\n",
       "      <td>Let's start by &lt;color=#3a9108&gt;removing all thi...</td>\n",
       "    </tr>\n",
       "    <tr>\n",
       "      <th>3</th>\n",
       "      <td>Remove junk</td>\n",
       "    </tr>\n",
       "    <tr>\n",
       "      <th>4</th>\n",
       "      <td>Much better!</td>\n",
       "    </tr>\n",
       "  </tbody>\n",
       "</table>\n",
       "</div>"
      ],
      "text/plain": [
       "                                                  英语\n",
       "0  When you told me you inherited this mansion fr...\n",
       "1  But since we're here already, we should revive...\n",
       "2  Let's start by <color=#3a9108>removing all thi...\n",
       "3                                        Remove junk\n",
       "4                                       Much better!"
      ]
     },
     "execution_count": 75,
     "metadata": {},
     "output_type": "execute_result"
    }
   ],
   "source": [
    "con = sqlite3.connect(\"texts.sqlite\") # DB Location\n",
    "SQL=\"\"\"\n",
    "SELECT distinct 英语\n",
    "FROM nova_texts_translated\n",
    "\"\"\"\n",
    "df = pd.read_sql_query(SQL,con)\n",
    "con.close()\n",
    "df.head()"
   ]
  }
 ],
 "metadata": {
  "kernelspec": {
   "display_name": "Python 3 (ipykernel)",
   "language": "python",
   "name": "python3"
  },
  "language_info": {
   "codemirror_mode": {
    "name": "ipython",
    "version": 3
   },
   "file_extension": ".py",
   "mimetype": "text/x-python",
   "name": "python",
   "nbconvert_exporter": "python",
   "pygments_lexer": "ipython3",
   "version": "3.10.5"
  }
 },
 "nbformat": 4,
 "nbformat_minor": 5
}
