{
 "cells": [
  {
   "cell_type": "code",
   "execution_count": 1,
   "metadata": {},
   "outputs": [],
   "source": [
    "import pandas as pd\n",
    "import codecs\n",
    "from bs4 import BeautifulSoup\n",
    "from pandas import ExcelWriter\n",
    "import os\n",
    "import difflib "
   ]
  },
  {
   "cell_type": "code",
   "execution_count": 44,
   "metadata": {},
   "outputs": [],
   "source": [
    "dflist = []\n",
    "devicelist = []"
   ]
  },
  {
   "cell_type": "code",
   "execution_count": 51,
   "metadata": {},
   "outputs": [
    {
     "data": {
      "text/html": [
       "<div>\n",
       "<style scoped>\n",
       "    .dataframe tbody tr th:only-of-type {\n",
       "        vertical-align: middle;\n",
       "    }\n",
       "\n",
       "    .dataframe tbody tr th {\n",
       "        vertical-align: top;\n",
       "    }\n",
       "\n",
       "    .dataframe thead th {\n",
       "        text-align: right;\n",
       "    }\n",
       "</style>\n",
       "<table border=\"1\" class=\"dataframe\">\n",
       "  <thead>\n",
       "    <tr style=\"text-align: right;\">\n",
       "      <th></th>\n",
       "      <th>Type</th>\n",
       "      <th>Content</th>\n",
       "    </tr>\n",
       "  </thead>\n",
       "  <tbody>\n",
       "    <tr>\n",
       "      <th>0</th>\n",
       "      <td>\"main\" prio=5 tid=1 Waiting</td>\n",
       "      <td>at java.lang.Object.wait (Native method)\\n  ...</td>\n",
       "    </tr>\n",
       "    <tr>\n",
       "      <th>1</th>\n",
       "      <td>\"Jit thread pool worker thread 0\" daemon prio=...</td>\n",
       "      <td>#00  pc 000000000005b7b0  /apex/com.android....</td>\n",
       "    </tr>\n",
       "    <tr>\n",
       "      <th>2</th>\n",
       "      <td>\"ReferenceQueueDaemon\" daemon prio=5 tid=9 Wai...</td>\n",
       "      <td>at java.lang.Object.wait (Native method)\\n  ...</td>\n",
       "    </tr>\n",
       "    <tr>\n",
       "      <th>3</th>\n",
       "      <td>\"FinalizerDaemon\" daemon prio=5 tid=10 Waiting</td>\n",
       "      <td>at java.lang.Object.wait (Native method)\\n  ...</td>\n",
       "    </tr>\n",
       "    <tr>\n",
       "      <th>4</th>\n",
       "      <td>\"FinalizerWatchdogDaemon\" daemon prio=5 tid=11...</td>\n",
       "      <td>at java.lang.Object.wait (Native method)\\n  ...</td>\n",
       "    </tr>\n",
       "    <tr>\n",
       "      <th>5</th>\n",
       "      <td>\"Binder:12161_1\" prio=5 tid=12 Native</td>\n",
       "      <td>#00  pc 00000000000977f0  /apex/com.android....</td>\n",
       "    </tr>\n",
       "    <tr>\n",
       "      <th>6</th>\n",
       "      <td>\"Binder:12161_2\" prio=5 tid=13 Native</td>\n",
       "      <td>#00  pc 00000000000977f0  /apex/com.android....</td>\n",
       "    </tr>\n",
       "    <tr>\n",
       "      <th>7</th>\n",
       "      <td>\"Binder:12161_3\" prio=5 tid=14 Native</td>\n",
       "      <td>#00  pc 00000000000977f0  /apex/com.android....</td>\n",
       "    </tr>\n",
       "    <tr>\n",
       "      <th>8</th>\n",
       "      <td>\"Profile Saver\" daemon prio=5 tid=15 Native</td>\n",
       "      <td>#00  pc 000000000005b7b0  /apex/com.android....</td>\n",
       "    </tr>\n",
       "    <tr>\n",
       "      <th>9</th>\n",
       "      <td>\"queued-work-looper\" prio=5 tid=17 Native</td>\n",
       "      <td>#00  pc 00000000000976b4  /apex/com.android....</td>\n",
       "    </tr>\n",
       "    <tr>\n",
       "      <th>10</th>\n",
       "      <td>\"Crashlytics Exception Handler1\" prio=5 tid=18...</td>\n",
       "      <td>at sun.misc.Unsafe.park (Native method)\\n  a...</td>\n",
       "    </tr>\n",
       "    <tr>\n",
       "      <th>11</th>\n",
       "      <td>\"com.google.firebase.crashlytics.startup1\" pri...</td>\n",
       "      <td>at sun.misc.Unsafe.park (Native method)\\n  a...</td>\n",
       "    </tr>\n",
       "    <tr>\n",
       "      <th>12</th>\n",
       "      <td>\"pool-5-thread-1\" prio=5 tid=20 Waiting</td>\n",
       "      <td>at sun.misc.Unsafe.park (Native method)\\n  a...</td>\n",
       "    </tr>\n",
       "    <tr>\n",
       "      <th>13</th>\n",
       "      <td>\"awaitEvenIfOnMainThread task continuation exe...</td>\n",
       "      <td>at sun.misc.Unsafe.park (Native method)\\n  a...</td>\n",
       "    </tr>\n",
       "    <tr>\n",
       "      <th>14</th>\n",
       "      <td>\"AsyncTask #3\" prio=5 tid=29 Waiting</td>\n",
       "      <td>at sun.misc.Unsafe.park (Native method)\\n  a...</td>\n",
       "    </tr>\n",
       "    <tr>\n",
       "      <th>15</th>\n",
       "      <td>\"pool-8-thread-1\" prio=5 tid=31 TimedWaiting</td>\n",
       "      <td>at sun.misc.Unsafe.park (Native method)\\n  a...</td>\n",
       "    </tr>\n",
       "    <tr>\n",
       "      <th>16</th>\n",
       "      <td>\"pool-9-thread-1\" prio=5 tid=32 Waiting</td>\n",
       "      <td>at sun.misc.Unsafe.park (Native method)\\n  a...</td>\n",
       "    </tr>\n",
       "    <tr>\n",
       "      <th>17</th>\n",
       "      <td>\"RenderThread\" daemon prio=7 tid=33 Native</td>\n",
       "      <td>#00  pc 00000000000976b4  /apex/com.android....</td>\n",
       "    </tr>\n",
       "    <tr>\n",
       "      <th>18</th>\n",
       "      <td>\"pool-7-thread-1\" prio=5 tid=35 TimedWaiting</td>\n",
       "      <td>at sun.misc.Unsafe.park (Native method)\\n  a...</td>\n",
       "    </tr>\n",
       "    <tr>\n",
       "      <th>19</th>\n",
       "      <td>\"magnifier pixel copy result handler\" prio=5 t...</td>\n",
       "      <td>#00  pc 00000000000976b4  /apex/com.android....</td>\n",
       "    </tr>\n",
       "    <tr>\n",
       "      <th>20</th>\n",
       "      <td>\"GLThread 106440\" prio=5 tid=37 Native</td>\n",
       "      <td>#00  pc 0000000000098550  /apex/com.android....</td>\n",
       "    </tr>\n",
       "    <tr>\n",
       "      <th>21</th>\n",
       "      <td>\"SoundPool\" prio=5 tid=38 Native</td>\n",
       "      <td>#00  pc 000000000005b7b0  /apex/com.android....</td>\n",
       "    </tr>\n",
       "    <tr>\n",
       "      <th>22</th>\n",
       "      <td>\"SoundPoolThread\" prio=5 tid=39 Native</td>\n",
       "      <td>#00  pc 000000000005b7b0  /apex/com.android....</td>\n",
       "    </tr>\n",
       "    <tr>\n",
       "      <th>23</th>\n",
       "      <td>\"alydbsession\" prio=5 tid=40 Native</td>\n",
       "      <td>#00  pc 00000000000976b4  /apex/com.android....</td>\n",
       "    </tr>\n",
       "    <tr>\n",
       "      <th>24</th>\n",
       "      <td>\"alydbsession\" prio=5 tid=41 Native</td>\n",
       "      <td>#00  pc 00000000000976b4  /apex/com.android....</td>\n",
       "    </tr>\n",
       "    <tr>\n",
       "      <th>25</th>\n",
       "      <td>\"analysis_controller\" prio=5 tid=42 Native</td>\n",
       "      <td>#00  pc 00000000000976b4  /apex/com.android....</td>\n",
       "    </tr>\n",
       "    <tr>\n",
       "      <th>26</th>\n",
       "      <td>\"channelSDK\" prio=5 tid=44 Native</td>\n",
       "      <td>#00  pc 00000000000976b4  /apex/com.android....</td>\n",
       "    </tr>\n",
       "    <tr>\n",
       "      <th>27</th>\n",
       "      <td>\"Chrome_ProcessLauncherThread\" prio=5 tid=45 N...</td>\n",
       "      <td>#00  pc 00000000000976b4  /apex/com.android....</td>\n",
       "    </tr>\n",
       "    <tr>\n",
       "      <th>28</th>\n",
       "      <td>\"Signal Catcher\" daemon prio=5 tid=7 Runnable</td>\n",
       "      <td>#00  pc 00000000002fe823  /apex/com.android....</td>\n",
       "    </tr>\n",
       "    <tr>\n",
       "      <th>29</th>\n",
       "      <td>\"HeapTaskDaemon\" daemon prio=5 tid=8 WaitingFo...</td>\n",
       "      <td>#00  pc 000000000005b7b0  /apex/com.android....</td>\n",
       "    </tr>\n",
       "  </tbody>\n",
       "</table>\n",
       "</div>"
      ],
      "text/plain": [
       "                                                 Type  \\\n",
       "0                         \"main\" prio=5 tid=1 Waiting   \n",
       "1   \"Jit thread pool worker thread 0\" daemon prio=...   \n",
       "2   \"ReferenceQueueDaemon\" daemon prio=5 tid=9 Wai...   \n",
       "3      \"FinalizerDaemon\" daemon prio=5 tid=10 Waiting   \n",
       "4   \"FinalizerWatchdogDaemon\" daemon prio=5 tid=11...   \n",
       "5               \"Binder:12161_1\" prio=5 tid=12 Native   \n",
       "6               \"Binder:12161_2\" prio=5 tid=13 Native   \n",
       "7               \"Binder:12161_3\" prio=5 tid=14 Native   \n",
       "8         \"Profile Saver\" daemon prio=5 tid=15 Native   \n",
       "9           \"queued-work-looper\" prio=5 tid=17 Native   \n",
       "10  \"Crashlytics Exception Handler1\" prio=5 tid=18...   \n",
       "11  \"com.google.firebase.crashlytics.startup1\" pri...   \n",
       "12            \"pool-5-thread-1\" prio=5 tid=20 Waiting   \n",
       "13  \"awaitEvenIfOnMainThread task continuation exe...   \n",
       "14               \"AsyncTask #3\" prio=5 tid=29 Waiting   \n",
       "15       \"pool-8-thread-1\" prio=5 tid=31 TimedWaiting   \n",
       "16            \"pool-9-thread-1\" prio=5 tid=32 Waiting   \n",
       "17         \"RenderThread\" daemon prio=7 tid=33 Native   \n",
       "18       \"pool-7-thread-1\" prio=5 tid=35 TimedWaiting   \n",
       "19  \"magnifier pixel copy result handler\" prio=5 t...   \n",
       "20             \"GLThread 106440\" prio=5 tid=37 Native   \n",
       "21                   \"SoundPool\" prio=5 tid=38 Native   \n",
       "22             \"SoundPoolThread\" prio=5 tid=39 Native   \n",
       "23                \"alydbsession\" prio=5 tid=40 Native   \n",
       "24                \"alydbsession\" prio=5 tid=41 Native   \n",
       "25         \"analysis_controller\" prio=5 tid=42 Native   \n",
       "26                  \"channelSDK\" prio=5 tid=44 Native   \n",
       "27  \"Chrome_ProcessLauncherThread\" prio=5 tid=45 N...   \n",
       "28      \"Signal Catcher\" daemon prio=5 tid=7 Runnable   \n",
       "29  \"HeapTaskDaemon\" daemon prio=5 tid=8 WaitingFo...   \n",
       "\n",
       "                                              Content  \n",
       "0     at java.lang.Object.wait (Native method)\\n  ...  \n",
       "1     #00  pc 000000000005b7b0  /apex/com.android....  \n",
       "2     at java.lang.Object.wait (Native method)\\n  ...  \n",
       "3     at java.lang.Object.wait (Native method)\\n  ...  \n",
       "4     at java.lang.Object.wait (Native method)\\n  ...  \n",
       "5     #00  pc 00000000000977f0  /apex/com.android....  \n",
       "6     #00  pc 00000000000977f0  /apex/com.android....  \n",
       "7     #00  pc 00000000000977f0  /apex/com.android....  \n",
       "8     #00  pc 000000000005b7b0  /apex/com.android....  \n",
       "9     #00  pc 00000000000976b4  /apex/com.android....  \n",
       "10    at sun.misc.Unsafe.park (Native method)\\n  a...  \n",
       "11    at sun.misc.Unsafe.park (Native method)\\n  a...  \n",
       "12    at sun.misc.Unsafe.park (Native method)\\n  a...  \n",
       "13    at sun.misc.Unsafe.park (Native method)\\n  a...  \n",
       "14    at sun.misc.Unsafe.park (Native method)\\n  a...  \n",
       "15    at sun.misc.Unsafe.park (Native method)\\n  a...  \n",
       "16    at sun.misc.Unsafe.park (Native method)\\n  a...  \n",
       "17    #00  pc 00000000000976b4  /apex/com.android....  \n",
       "18    at sun.misc.Unsafe.park (Native method)\\n  a...  \n",
       "19    #00  pc 00000000000976b4  /apex/com.android....  \n",
       "20    #00  pc 0000000000098550  /apex/com.android....  \n",
       "21    #00  pc 000000000005b7b0  /apex/com.android....  \n",
       "22    #00  pc 000000000005b7b0  /apex/com.android....  \n",
       "23    #00  pc 00000000000976b4  /apex/com.android....  \n",
       "24    #00  pc 00000000000976b4  /apex/com.android....  \n",
       "25    #00  pc 00000000000976b4  /apex/com.android....  \n",
       "26    #00  pc 00000000000976b4  /apex/com.android....  \n",
       "27    #00  pc 00000000000976b4  /apex/com.android....  \n",
       "28    #00  pc 00000000002fe823  /apex/com.android....  \n",
       "29    #00  pc 000000000005b7b0  /apex/com.android....  "
      ]
     },
     "execution_count": 51,
     "metadata": {},
     "output_type": "execute_result"
    }
   ],
   "source": [
    "textfilename = 'files/anr_html.txt'\n",
    "# from <console-section>\n",
    "file = codecs.open(textfilename,\"r\",\"utf-8\")\n",
    "html_file = BeautifulSoup(file,\"html.parser\")\n",
    "anr_info = html_file.findAll(\"snippet\")\n",
    "\n",
    "anr_title_list = []\n",
    "anr_content_list = []\n",
    "for num in range(len(anr_info)):\n",
    "    # 024- type\n",
    "    # 135- content \n",
    "    if num%2 ==0:\n",
    "        anr_title_list.append(anr_info[num].text)\n",
    "    else:\n",
    "        anr_content_list.append(anr_info[num].text)\n",
    "    \n",
    "df = pd.DataFrame()\n",
    "df['Type'] = anr_title_list\n",
    "df['Content'] = anr_content_list\n",
    "df"
   ]
  },
  {
   "cell_type": "code",
   "execution_count": 52,
   "metadata": {},
   "outputs": [
    {
     "name": "stdout",
     "output_type": "stream",
     "text": [
      "3\n"
     ]
    }
   ],
   "source": [
    "dflist.append(df)\n",
    "print(len(dflist))"
   ]
  },
  {
   "cell_type": "code",
   "execution_count": 53,
   "metadata": {},
   "outputs": [
    {
     "data": {
      "text/plain": [
       "['ANR__Samsung Galaxy A11__Android 10 (SDK 29)__222.apk__22 小时前',\n",
       " 'ANR__Samsung Galaxy A11__Android 10 (SDK 29)__226.apk__25 小时前',\n",
       " 'ANR__Acer Liquid S1__Android 10 (SDK 29)__226.apk__31 小时前']"
      ]
     },
     "execution_count": 53,
     "metadata": {},
     "output_type": "execute_result"
    }
   ],
   "source": [
    "devlist = []\n",
    "for component in html_file.find('icon-text').findAll('span'):    \n",
    "    devlist.append(component.text)\n",
    "devicelist.append('__'.join(devlist))\n",
    "devicelist"
   ]
  },
  {
   "cell_type": "code",
   "execution_count": null,
   "metadata": {},
   "outputs": [],
   "source": []
  },
  {
   "cell_type": "code",
   "execution_count": null,
   "metadata": {},
   "outputs": [],
   "source": []
  },
  {
   "cell_type": "code",
   "execution_count": null,
   "metadata": {},
   "outputs": [],
   "source": []
  },
  {
   "cell_type": "code",
   "execution_count": null,
   "metadata": {},
   "outputs": [],
   "source": []
  },
  {
   "cell_type": "code",
   "execution_count": null,
   "metadata": {},
   "outputs": [],
   "source": [
    "/mnt/e/desktop/1/Avid.ly/Harvest/Data/ANR/ANR20210623"
   ]
  },
  {
   "cell_type": "code",
   "execution_count": 56,
   "metadata": {},
   "outputs": [
    {
     "data": {
      "text/plain": [
       "['Broadcast of Intent.xlsx', 'Input dispatching timed out.xlsx']"
      ]
     },
     "execution_count": 56,
     "metadata": {},
     "output_type": "execute_result"
    }
   ],
   "source": [
    "dirname = '/mnt/e/desktop/1/Avid.ly/Harvest/Data/ANR/ANR20210623'\n",
    "filelist = os.listdir(dirname)\n",
    "filelist"
   ]
  },
  {
   "cell_type": "code",
   "execution_count": 57,
   "metadata": {},
   "outputs": [
    {
     "name": "stdin",
     "output_type": "stream",
     "text": [
      " Broadcast of Intent2\n"
     ]
    },
    {
     "name": "stdout",
     "output_type": "stream",
     "text": [
      "1\n"
     ]
    },
    {
     "data": {
      "text/plain": [
       "['Broadcast of Intent.xlsx']"
      ]
     },
     "execution_count": 57,
     "metadata": {},
     "output_type": "execute_result"
    }
   ],
   "source": [
    "probname = input()\n",
    "print(len(difflib.get_close_matches(probname,filelist)))\n",
    "\n",
    "difflib.get_close_matches(probname,filelist)"
   ]
  },
  {
   "cell_type": "code",
   "execution_count": 58,
   "metadata": {},
   "outputs": [
    {
     "data": {
      "text/plain": [
       "'/mnt/e/desktop/1/Avid.ly/Harvest/Data/ANR/ANR20210623/Broadcast of Intent2.xlsx'"
      ]
     },
     "execution_count": 58,
     "metadata": {},
     "output_type": "execute_result"
    }
   ],
   "source": [
    "filename = dirname + '/' + str(probname)+'.xlsx'\n",
    "filename"
   ]
  },
  {
   "cell_type": "code",
   "execution_count": 59,
   "metadata": {},
   "outputs": [
    {
     "name": "stderr",
     "output_type": "stream",
     "text": [
      "/home/dave/program/anaconda3/envs/work/lib/python3.9/site-packages/xlsxwriter/workbook.py:338: UserWarning: Calling close() on already closed file.\n",
      "  warn(\"Calling close() on already closed file.\")\n"
     ]
    }
   ],
   "source": [
    "with ExcelWriter(filename) as writer:\n",
    "    for num in range(len(dflist)):\n",
    "        dflist[num].to_excel(writer,str(num))\n",
    "writer.save()"
   ]
  },
  {
   "cell_type": "code",
   "execution_count": null,
   "metadata": {},
   "outputs": [],
   "source": []
  }
 ],
 "metadata": {
  "kernelspec": {
   "display_name": "Python 3",
   "language": "python",
   "name": "python3"
  },
  "language_info": {
   "codemirror_mode": {
    "name": "ipython",
    "version": 3
   },
   "file_extension": ".py",
   "mimetype": "text/x-python",
   "name": "python",
   "nbconvert_exporter": "python",
   "pygments_lexer": "ipython3",
   "version": "3.9.5"
  }
 },
 "nbformat": 4,
 "nbformat_minor": 4
}
